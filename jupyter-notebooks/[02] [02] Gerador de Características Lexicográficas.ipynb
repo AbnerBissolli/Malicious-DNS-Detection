{
 "cells": [
  {
   "cell_type": "code",
   "execution_count": 1,
   "metadata": {},
   "outputs": [],
   "source": [
    "import pandas as pd\n",
    "\n",
    "from scipy.stats import entropy\n",
    "from collections import Counter"
   ]
  },
  {
   "cell_type": "markdown",
   "metadata": {},
   "source": [
    "# Generating for Train Dataset"
   ]
  },
  {
   "cell_type": "code",
   "execution_count": 2,
   "metadata": {},
   "outputs": [],
   "source": [
    "train = pd.read_pickle('../Dataset/Train/raw_train.pickle')\n",
    "\n",
    "train = train.drop(columns=['Third Party'])\n",
    "train = train.fillna('')"
   ]
  },
  {
   "cell_type": "code",
   "execution_count": 3,
   "metadata": {},
   "outputs": [],
   "source": [
    "################################################################\n",
    "\n",
    "def get_len(s):\n",
    "    return len(s)\n",
    "\n",
    "################################################################\n",
    "\n",
    "def get_pct(s):\n",
    "    numbers = sum(c.isdigit() for c in s)\n",
    "    lenght  = len(s)\n",
    "    if numbers == 0:\n",
    "        return 0\n",
    "    return numbers/lenght\n",
    "\n",
    "################################################################\n",
    "\n",
    "def get_nan(s):\n",
    "    numbers = sum(c.isdigit() for c in s)\n",
    "    letters = sum(c.isalpha() for c in s)    \n",
    "    others  = len(s) - numbers - letters\n",
    "    return others\n",
    "\n",
    "################################################################\n",
    "\n",
    "def get_etp(s):\n",
    "    if s == '':\n",
    "        return 0\n",
    "    \n",
    "    pd_series = pd.Series(list(s))\n",
    "    counts = pd_series.value_counts()\n",
    "    return entropy(counts)\n",
    "\n",
    "################################################################\n",
    "\n",
    "def get_nos(s):\n",
    "    word_list =s.split('.')\n",
    "    return len(word_list)\n",
    "\n",
    "################################################################"
   ]
  },
  {
   "cell_type": "code",
   "execution_count": 4,
   "metadata": {},
   "outputs": [],
   "source": [
    "train['SSD_len'] = train['SSD'].apply(get_len)\n",
    "train['SUB_len'] = train['SUB'].apply(get_len)\n",
    "train['SLD_len'] = train['SLD'].apply(get_len)\n",
    "\n",
    "train['SSD_pct'] = train['SSD'].apply(get_pct)\n",
    "train['SUB_pct'] = train['SUB'].apply(get_pct)\n",
    "train['SLD_pct'] = train['SLD'].apply(get_pct)\n",
    "\n",
    "train['SSD_nan'] = train['SSD'].apply(get_nan)\n",
    "train['SUB_nan'] = train['SUB'].apply(get_nan)\n",
    "train['SLD_nan'] = train['SLD'].apply(get_nan)\n",
    "\n",
    "train['SSD_etp'] = train['SSD'].apply(get_etp)\n",
    "train['SUB_etp'] = train['SUB'].apply(get_etp)\n",
    "train['SLD_etp'] = train['SLD'].apply(get_etp)\n",
    "\n",
    "train['SUB_num'] = train['SUB'].apply(get_nos)"
   ]
  },
  {
   "cell_type": "code",
   "execution_count": 5,
   "metadata": {},
   "outputs": [],
   "source": [
    "# Saving the dataset\n",
    "\n",
    "train.to_csv('../Dataset/Train/Temp/lx_train.csv', index=False)"
   ]
  },
  {
   "cell_type": "markdown",
   "metadata": {},
   "source": [
    "# Generating for Test Dataset"
   ]
  },
  {
   "cell_type": "code",
   "execution_count": 6,
   "metadata": {},
   "outputs": [],
   "source": [
    "test = pd.read_pickle('../Dataset/Test/raw_test.pickle')\n",
    "\n",
    "test = test.drop(columns=['Third Party'])\n",
    "test = test.fillna('')"
   ]
  },
  {
   "cell_type": "code",
   "execution_count": 7,
   "metadata": {},
   "outputs": [],
   "source": [
    "test['SSD_len'] = test['SSD'].apply(get_len)\n",
    "test['SUB_len'] = test['SUB'].apply(get_len)\n",
    "test['SLD_len'] = test['SLD'].apply(get_len)\n",
    "\n",
    "test['SSD_pct'] = test['SSD'].apply(get_pct)\n",
    "test['SUB_pct'] = test['SUB'].apply(get_pct)\n",
    "test['SLD_pct'] = test['SLD'].apply(get_pct)\n",
    "\n",
    "test['SSD_nan'] = test['SSD'].apply(get_nan)\n",
    "test['SUB_nan'] = test['SUB'].apply(get_nan)\n",
    "test['SLD_nan'] = test['SLD'].apply(get_nan)\n",
    "\n",
    "test['SSD_etp'] = test['SSD'].apply(get_etp)\n",
    "test['SUB_etp'] = test['SUB'].apply(get_etp)\n",
    "test['SLD_etp'] = test['SLD'].apply(get_etp)\n",
    "\n",
    "test['SUB_num'] = test['SUB'].apply(get_nos)"
   ]
  },
  {
   "cell_type": "code",
   "execution_count": 8,
   "metadata": {},
   "outputs": [],
   "source": [
    "# Saving the dataset\n",
    "\n",
    "test.to_csv('../Dataset/Test/Temp/lx_test.csv', index=False)"
   ]
  }
 ],
 "metadata": {
  "kernelspec": {
   "display_name": "Python 3",
   "language": "python",
   "name": "python3"
  },
  "language_info": {
   "codemirror_mode": {
    "name": "ipython",
    "version": 3
   },
   "file_extension": ".py",
   "mimetype": "text/x-python",
   "name": "python",
   "nbconvert_exporter": "python",
   "pygments_lexer": "ipython3",
   "version": "3.7.6"
  }
 },
 "nbformat": 4,
 "nbformat_minor": 4
}
