{
 "cells": [
  {
   "cell_type": "code",
   "execution_count": 1,
   "metadata": {},
   "outputs": [],
   "source": [
    "import numpy as np\n",
    "import pandas as pd"
   ]
  },
  {
   "cell_type": "code",
   "execution_count": 4,
   "metadata": {},
   "outputs": [],
   "source": [
    "# Reading datasets\n",
    "\n",
    "df_be = pd.read_csv('../Dataset/Domains/Raw/benign_domains.csv',header=None)\n",
    "df_ma = pd.read_csv('../Dataset/Domains/Raw/malware_domains.csv',header=None)\n",
    "df_ph = pd.read_csv('../Dataset/Domains/Raw/phishing_domains.csv',header=None)\n",
    "df_sp = pd.read_csv('../Dataset/Domains/Raw/spam_domains.csv',header=None)"
   ]
  },
  {
   "cell_type": "code",
   "execution_count": 5,
   "metadata": {},
   "outputs": [],
   "source": [
    "# Cleaning phishing_domain dataset\n",
    "\n",
    "def get_domain(string):    \n",
    "    string = string.replace('https://','')\n",
    "    string = string.replace('http://','')\n",
    "    string = string.split('/', 1)[0]\n",
    "    \n",
    "    return string\n",
    "\n",
    "df_ph = df_ph[[1]]\n",
    "df_ph[1] = df_ph[1].apply(get_domain)"
   ]
  },
  {
   "cell_type": "code",
   "execution_count": 6,
   "metadata": {},
   "outputs": [],
   "source": [
    "# Dropping duplicates\n",
    "\n",
    "df_be = df_be.drop_duplicates()\n",
    "df_ma = df_ma.drop_duplicates()\n",
    "df_ph = df_ph.drop_duplicates()\n",
    "df_sp = df_sp.drop_duplicates()"
   ]
  },
  {
   "cell_type": "code",
   "execution_count": 7,
   "metadata": {},
   "outputs": [],
   "source": [
    "# Setting classes\n",
    "\n",
    "df_be[2] = 'benign'\n",
    "df_ma[2] = 'malware'\n",
    "df_ph[2] = 'phishing'\n",
    "df_sp[2] = 'spam'"
   ]
  },
  {
   "cell_type": "code",
   "execution_count": 8,
   "metadata": {},
   "outputs": [],
   "source": [
    "# Naming columns\n",
    "\n",
    "df_be.columns = ['domain', 'class']\n",
    "df_ma.columns = ['domain', 'class']\n",
    "df_ph.columns = ['domain', 'class']\n",
    "df_sp.columns = ['domain', 'class']"
   ]
  },
  {
   "cell_type": "code",
   "execution_count": 9,
   "metadata": {},
   "outputs": [],
   "source": [
    "# Combaining datasets\n",
    "\n",
    "df = pd.concat([df_be, df_ma, df_ph, df_sp])"
   ]
  },
  {
   "cell_type": "code",
   "execution_count": 10,
   "metadata": {},
   "outputs": [],
   "source": [
    "# Dropping duplicates after combaining\n",
    "\n",
    "df = df.drop_duplicates(subset=['domain'], keep='last')"
   ]
  },
  {
   "cell_type": "code",
   "execution_count": 11,
   "metadata": {},
   "outputs": [],
   "source": [
    "# Reseting the index\n",
    "\n",
    "df = df.reset_index(drop=True)"
   ]
  },
  {
   "cell_type": "code",
   "execution_count": 14,
   "metadata": {},
   "outputs": [],
   "source": [
    "# Saving the dataset\n",
    "\n",
    "df.to_csv('../Dataset/Domains/Clean/domains_raw.csv', index=False)"
   ]
  },
  {
   "cell_type": "code",
   "execution_count": 13,
   "metadata": {},
   "outputs": [],
   "source": [
    "# Reducing The Benign Dataset\n",
    "\n",
    "np.random.seed(42)\n",
    "\n",
    "remove_n = 914881\n",
    "\n",
    "drop_indices = np.random.choice(df[df['class']=='benign'].index, remove_n, replace=False)\n",
    "df_subset = df.drop(drop_indices)"
   ]
  },
  {
   "cell_type": "code",
   "execution_count": 14,
   "metadata": {},
   "outputs": [],
   "source": [
    "# Reseting the index\n",
    "\n",
    "df_subset = df_subset.reset_index(drop=True)"
   ]
  },
  {
   "cell_type": "code",
   "execution_count": 16,
   "metadata": {},
   "outputs": [],
   "source": [
    "# Saving the dataset\n",
    "\n",
    "df_subset.to_csv('../Dataset/Domains/Clean/domains.csv', index=False)"
   ]
  }
 ],
 "metadata": {
  "kernelspec": {
   "display_name": "Python 3",
   "language": "python",
   "name": "python3"
  },
  "language_info": {
   "codemirror_mode": {
    "name": "ipython",
    "version": 3
   },
   "file_extension": ".py",
   "mimetype": "text/x-python",
   "name": "python",
   "nbconvert_exporter": "python",
   "pygments_lexer": "ipython3",
   "version": "3.7.6"
  }
 },
 "nbformat": 4,
 "nbformat_minor": 4
}
