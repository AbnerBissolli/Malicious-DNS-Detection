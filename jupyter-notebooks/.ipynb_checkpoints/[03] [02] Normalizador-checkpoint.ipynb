{
 "cells": [
  {
   "cell_type": "code",
   "execution_count": 1,
   "metadata": {},
   "outputs": [],
   "source": [
    "import pandas as pd"
   ]
  },
  {
   "cell_type": "markdown",
   "metadata": {},
   "source": [
    "# Reading Datasets"
   ]
  },
  {
   "cell_type": "code",
   "execution_count": 2,
   "metadata": {},
   "outputs": [],
   "source": [
    "train = pd.read_csv('../Dataset/Train/Temp/enc_train.csv')\n",
    "test = pd.read_csv('../Dataset/Test/Temp/enc_test.csv')\n",
    "\n",
    "## Dropping ip_format, because in this dataset all ip are malicious domains \n",
    "train = train.drop(columns=['ip_format'])\n",
    "test = test.drop(columns=['ip_format'])"
   ]
  },
  {
   "cell_type": "markdown",
   "metadata": {},
   "source": [
    "# Normalizing Train Dataset"
   ]
  },
  {
   "cell_type": "code",
   "execution_count": 3,
   "metadata": {},
   "outputs": [],
   "source": [
    "from pickle import dump\n",
    "\n",
    "from sklearn.preprocessing import StandardScaler\n",
    "from sklearn.preprocessing import MinMaxScaler\n",
    "from sklearn.preprocessing import Normalizer"
   ]
  },
  {
   "cell_type": "code",
   "execution_count": 4,
   "metadata": {},
   "outputs": [],
   "source": [
    "train_features = train.drop(columns = ['class', 'sub_class'])\n",
    "features = train_features.columns"
   ]
  },
  {
   "cell_type": "code",
   "execution_count": 5,
   "metadata": {},
   "outputs": [
    {
     "data": {
      "text/plain": [
       "Normalizer()"
      ]
     },
     "execution_count": 5,
     "metadata": {},
     "output_type": "execute_result"
    }
   ],
   "source": [
    "scaler = Normalizer()\n",
    "# scaler = MinMaxScaler()\n",
    "scaler.fit(train_features)"
   ]
  },
  {
   "cell_type": "code",
   "execution_count": 6,
   "metadata": {},
   "outputs": [],
   "source": [
    "train_features_norm = scaler.transform(train_features)\n",
    "train_features_norm = pd.DataFrame(train_features_norm, columns = features)"
   ]
  },
  {
   "cell_type": "code",
   "execution_count": 7,
   "metadata": {},
   "outputs": [],
   "source": [
    "df_1 = train[['class', 'sub_class']]\n",
    "df_2 = train_features_norm\n",
    "\n",
    "train = pd.concat([df_1,df_2], axis=1, ignore_index=False)"
   ]
  },
  {
   "cell_type": "code",
   "execution_count": 8,
   "metadata": {},
   "outputs": [],
   "source": [
    "# Saving The Dataset\n",
    "train.to_csv('../Dataset/Train/train.csv', index=False)\n",
    "\n",
    "# Saving the scaler\n",
    "dump(scaler, open('../Models/Scalers/scaler.pikle', 'wb'))"
   ]
  },
  {
   "cell_type": "markdown",
   "metadata": {},
   "source": [
    "# Nomralizing Test Dataset"
   ]
  },
  {
   "cell_type": "code",
   "execution_count": 9,
   "metadata": {},
   "outputs": [],
   "source": [
    "from pickle import load\n",
    "\n",
    "scaler = load(open('../Models/Scalers/scaler.pikle', 'rb'))"
   ]
  },
  {
   "cell_type": "code",
   "execution_count": 10,
   "metadata": {},
   "outputs": [],
   "source": [
    "test_features = test.drop(columns = ['class', 'sub_class'])\n",
    "features = test_features.columns\n",
    "\n",
    "test_features_norm = scaler.transform(test_features)\n",
    "test_features_norm = pd.DataFrame(test_features_norm, columns = features)\n",
    "\n",
    "df_1 = test[['class', 'sub_class']]\n",
    "df_2 = test_features_norm\n",
    "\n",
    "test = pd.concat([df_1,df_2], axis=1, ignore_index=False)"
   ]
  },
  {
   "cell_type": "code",
   "execution_count": 11,
   "metadata": {},
   "outputs": [],
   "source": [
    "# Saving The Dataset\n",
    "test.to_csv('../Dataset/Test/test.csv', index=False)"
   ]
  },
  {
   "cell_type": "code",
   "execution_count": null,
   "metadata": {},
   "outputs": [],
   "source": []
  }
 ],
 "metadata": {
  "kernelspec": {
   "display_name": "Python 3",
   "language": "python",
   "name": "python3"
  },
  "language_info": {
   "codemirror_mode": {
    "name": "ipython",
    "version": 3
   },
   "file_extension": ".py",
   "mimetype": "text/x-python",
   "name": "python",
   "nbconvert_exporter": "python",
   "pygments_lexer": "ipython3",
   "version": "3.7.6"
  }
 },
 "nbformat": 4,
 "nbformat_minor": 4
}
