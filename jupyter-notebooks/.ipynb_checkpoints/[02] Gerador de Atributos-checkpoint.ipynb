{
 "cells": [
  {
   "cell_type": "code",
   "execution_count": 1,
   "metadata": {},
   "outputs": [],
   "source": [
    "import pandas as pd"
   ]
  },
  {
   "cell_type": "code",
   "execution_count": 3,
   "metadata": {},
   "outputs": [],
   "source": [
    "df = pd.read_csv('Dataset/Domains/Clean/domains.csv')"
   ]
  },
  {
   "cell_type": "code",
   "execution_count": 4,
   "metadata": {},
   "outputs": [],
   "source": [
    "# Defining Class and Sublcass\n",
    "\n",
    "def get_class(s):\n",
    "    if s == 'benign':\n",
    "        return 1\n",
    "    return 0\n",
    "\n",
    "df['sub_class'] = df['class']\n",
    "df['class'] = df['sub_class'].apply(get_class)"
   ]
  },
  {
   "cell_type": "code",
   "execution_count": 5,
   "metadata": {},
   "outputs": [],
   "source": [
    "from IPy import IP\n",
    "\n",
    "def ip_check(s):\n",
    "    try:\n",
    "        IP(s)\n",
    "        return 1\n",
    "    except:\n",
    "        return 0\n",
    "\n",
    "df['ip_format'] = df['domain'].apply(ip_check)"
   ]
  },
  {
   "cell_type": "code",
   "execution_count": 6,
   "metadata": {},
   "outputs": [],
   "source": [
    "# Parsing Attributes\n",
    "\n",
    "from tld import parse_tld\n",
    "\n",
    "def parse_domain(s):\n",
    "    if ip_check(s):\n",
    "        return  ('', '', '')\n",
    "        \n",
    "    parse = parse_tld(s, fix_protocol=True)\n",
    "    if parse == (None, None, None):\n",
    "        return ('', s, '')\n",
    "    return parse\n",
    "\n",
    "df['parse'] = df['domain'].apply(parse_domain)"
   ]
  },
  {
   "cell_type": "code",
   "execution_count": 7,
   "metadata": {},
   "outputs": [],
   "source": [
    "# Setting Attributes\n",
    "\n",
    "def get_ssd(t):\n",
    "    if t[1] == '':\n",
    "        return t[2]\n",
    "    elif t[2] == '':\n",
    "        return t[1]\n",
    "    else:\n",
    "        return t[2]+'.'+t[1]\n",
    "\n",
    "df['SSD'] = df['parse'].apply(get_ssd)\n",
    "\n",
    "\n",
    "def get_sub(t):\n",
    "    return t[2]\n",
    "\n",
    "df['SUB'] = df['parse'].apply(get_sub)    \n",
    "\n",
    "def get_sld(t):\n",
    "    return t[1]\n",
    "\n",
    "df['SLD'] = df['parse'].apply(get_sld)    \n",
    "\n",
    "def get_tld(t):\n",
    "    return t[0]\n",
    "\n",
    "df['TLD'] = df['parse'].apply(get_tld)    "
   ]
  },
  {
   "cell_type": "code",
   "execution_count": 8,
   "metadata": {},
   "outputs": [],
   "source": [
    "# Dropping Unwanted Columns\n",
    "\n",
    "df = df.drop(columns=['parse'])"
   ]
  },
  {
   "cell_type": "code",
   "execution_count": 9,
   "metadata": {},
   "outputs": [],
   "source": [
    "# Saving the dataset\n",
    "\n",
    "df.to_csv('Dataset/Generated/attributes.csv', index=False)"
   ]
  },
  {
   "cell_type": "code",
   "execution_count": null,
   "metadata": {},
   "outputs": [],
   "source": []
  }
 ],
 "metadata": {
  "kernelspec": {
   "display_name": "Python 3",
   "language": "python",
   "name": "python3"
  },
  "language_info": {
   "codemirror_mode": {
    "name": "ipython",
    "version": 3
   },
   "file_extension": ".py",
   "mimetype": "text/x-python",
   "name": "python",
   "nbconvert_exporter": "python",
   "pygments_lexer": "ipython3",
   "version": "3.7.6"
  }
 },
 "nbformat": 4,
 "nbformat_minor": 4
}
