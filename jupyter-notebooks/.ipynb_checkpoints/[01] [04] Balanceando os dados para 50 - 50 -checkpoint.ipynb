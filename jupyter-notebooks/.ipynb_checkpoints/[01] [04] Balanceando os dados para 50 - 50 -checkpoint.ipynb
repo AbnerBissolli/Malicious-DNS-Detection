{
 "cells": [
  {
   "cell_type": "code",
   "execution_count": 1,
   "metadata": {},
   "outputs": [],
   "source": [
    "import numpy as np\n",
    "import pandas as pd\n",
    "\n",
    "np.random.seed(42)\n",
    "df = pd.read_pickle('../Dataset/Attributes/tp_attributes.pickle')"
   ]
  },
  {
   "cell_type": "code",
   "execution_count": 2,
   "metadata": {},
   "outputs": [],
   "source": [
    "cnt_be = df[df['class']==0].shape[0]\n",
    "cnt_mw = df[df['class']==1].shape[0]\n",
    "\n",
    "rm_be = cnt_be-cnt_mw"
   ]
  },
  {
   "cell_type": "code",
   "execution_count": 3,
   "metadata": {},
   "outputs": [],
   "source": [
    "drop_indices = np.random.choice(df[df['class']==0].index, rm_be, replace=False)\n",
    "df_subset = df.drop(drop_indices)\n",
    "df_subset = df_subset.reset_index(drop=True)\n",
    "df_subset.to_pickle('../Dataset/Attributes/ba_tp_attributes.pickle')"
   ]
  }
 ],
 "metadata": {
  "kernelspec": {
   "display_name": "Python 3",
   "language": "python",
   "name": "python3"
  },
  "language_info": {
   "codemirror_mode": {
    "name": "ipython",
    "version": 3
   },
   "file_extension": ".py",
   "mimetype": "text/x-python",
   "name": "python",
   "nbconvert_exporter": "python",
   "pygments_lexer": "ipython3",
   "version": "3.7.6"
  }
 },
 "nbformat": 4,
 "nbformat_minor": 4
}
