{
 "cells": [
  {
   "cell_type": "code",
   "execution_count": 150,
   "metadata": {},
   "outputs": [],
   "source": [
    "import pandas as pd\n",
    "import numpy as np\n",
    "import matplotlib.pyplot as plt\n",
    "import seaborn as sns"
   ]
  },
  {
   "cell_type": "code",
   "execution_count": 151,
   "metadata": {},
   "outputs": [],
   "source": [
    "# CARREGA DATASET\n",
    "\n",
    "df_train = pd.read_csv('C:\\\\Users\\\\Michele\\\\Desktop\\\\Malicious\\\\Dataset\\\\Train\\\\train.csv', engine='python', sep=',')\n",
    "df_test = pd.read_csv('C:\\\\Users\\\\Michele\\\\Desktop\\Malicious\\\\Dataset\\\\Test\\\\test.csv', engine='python', sep=',')\n"
   ]
  },
  {
   "cell_type": "code",
   "execution_count": 152,
   "metadata": {},
   "outputs": [],
   "source": [
    "# DADOS DE TREINAMENTO E TESTE\n",
    "\n",
    "X_train = df_train.drop(columns=['class', 'sub_class'], axis=1)\n",
    "X_test = df_test.drop(columns=['class', 'sub_class'])\n",
    "\n",
    "y_train = df_train['class']\n",
    "y_test = df_test['class']"
   ]
  },
  {
   "cell_type": "code",
   "execution_count": 153,
   "metadata": {},
   "outputs": [],
   "source": [
    "# IMPORTANDO O MODELO KNN\n",
    "from sklearn.neighbors import KNeighborsClassifier \n",
    "\n",
    "from sklearn.model_selection import train_test_split"
   ]
  },
  {
   "cell_type": "code",
   "execution_count": 154,
   "metadata": {},
   "outputs": [
    {
     "data": {
      "text/plain": [
       "KNeighborsClassifier(n_neighbors=8)"
      ]
     },
     "execution_count": 154,
     "metadata": {},
     "output_type": "execute_result"
    }
   ],
   "source": [
    "# DEFININDO O NÚMERO DOS K VIZINHOS\n",
    "classifier = KNeighborsClassifier(n_neighbors=8)  \n",
    "\n",
    "# TREINANDO O MODELO\n",
    "classifier.fit(X_train, y_train)  "
   ]
  },
  {
   "cell_type": "code",
   "execution_count": 155,
   "metadata": {},
   "outputs": [],
   "source": [
    "# Prevendo valores de Y para os dados de teste (X_test)\n",
    "y_pred = classifier.predict(X_test) "
   ]
  },
  {
   "cell_type": "code",
   "execution_count": 159,
   "metadata": {},
   "outputs": [
    {
     "name": "stdout",
     "output_type": "stream",
     "text": [
      "RELATÓRIO DE CLASSIFICAÇÃO: \n",
      "               precision    recall  f1-score   support\n",
      "\n",
      "           0       0.82      0.93      0.87     14817\n",
      "           1       0.80      0.57      0.67      7209\n",
      "\n",
      "    accuracy                           0.81     22026\n",
      "   macro avg       0.81      0.75      0.77     22026\n",
      "weighted avg       0.81      0.81      0.80     22026\n",
      "\n",
      "ACURÁCIA DO MODELO:  0.8136293471352039\n"
     ]
    },
    {
     "data": {
      "text/plain": [
       "<AxesSubplot:>"
      ]
     },
     "execution_count": 159,
     "metadata": {},
     "output_type": "execute_result"
    },
    {
     "data": {
      "image/png": "[encoded data removed]",
      "text/plain": [
       "<Figure size 288x144 with 2 Axes>"
      ]
     },
     "metadata": {
      "needs_background": "light"
     },
     "output_type": "display_data"
    }
   ],
   "source": [
    "# IMPORTANDO PARA VALIDAÇÃO DO MODELO\n",
    "from sklearn.metrics import classification_report, confusion_matrix, accuracy_score\n",
    "\n",
    "# RELATÓRIO DE CLASSIFICAÇÃO\n",
    "print(\"RELATÓRIO DE CLASSIFICAÇÃO: \\n\", classification_report(y_test, y_pred))  \n",
    "\n",
    "# ACURÁCIA\n",
    "print('ACURÁCIA DO MODELO: ' , accuracy_score(y_test, y_pred))\n",
    "\n",
    "# MATRIZ DE CONFUSÃO\n",
    "y_pred = classifier.predict(X_test)\n",
    "\n",
    "cm = confusion_matrix(y_test, y_pred, normalize='true')\n",
    "cr = classification_report(y_test, y_pred, labels=[0,1], output_dict=True)\n",
    "\n",
    "fig, ax = plt.subplots(figsize=(4,2))\n",
    "sns.heatmap(cm, cmap=\"YlGnBu\", annot=True, fmt=\".2f\")"
   ]
  },
  {
   "cell_type": "code",
   "execution_count": 160,
   "metadata": {},
   "outputs": [
    {
     "data": {
      "text/plain": [
       "Text(0, 0.5, 'Média de Erro')"
      ]
     },
     "execution_count": 160,
     "metadata": {},
     "output_type": "execute_result"
    },
    {
     "data": {
      "image/png": "[encoded data removed]",
      "text/plain": [
       "<Figure size 576x288 with 1 Axes>"
      ]
     },
     "metadata": {
      "needs_background": "light"
     },
     "output_type": "display_data"
    }
   ],
   "source": [
    "# CALCULANDO O VALOR DE ERRO DE K\n",
    "\n",
    "error = []\n",
    "for i in range(1, 10):\n",
    "    knn = KNeighborsClassifier(n_neighbors=i)\n",
    "    knn.fit(X_train, y_train)\n",
    "    pred_i = knn.predict(X_test)\n",
    "    error.append(np.mean(pred_i != y_test))\n",
    "\n",
    "plt.figure(figsize=(8, 4))  \n",
    "plt.plot(range(1, 10), error, color='blue', linestyle='dashed', marker='o',  \n",
    "         markerfacecolor='blue', markersize=11)\n",
    "plt.title('Valor da taxa de Erro de K')  \n",
    "plt.xlabel('Valor de K')  \n",
    "plt.ylabel('Média de Erro') "
   ]
  },
  {
   "cell_type": "code",
   "execution_count": null,
   "metadata": {},
   "outputs": [],
   "source": [
    "#CROSS VALIDATION"
   ]
  },
  {
   "cell_type": "code",
   "execution_count": 162,
   "metadata": {},
   "outputs": [
    {
     "name": "stdout",
     "output_type": "stream",
     "text": [
      "Acurácia K-fold no. 0 : 0.814369218546053\n",
      "Acurácia K-fold no. 1 : 0.8149262202043133\n",
      "Acurácia K-fold no. 2 : 0.8055618615209988\n",
      "Acurácia K-fold no. 3 : 0.8120885357548241\n",
      "Acurácia K-fold no. 4 : 0.8127695800227015\n"
     ]
    }
   ],
   "source": [
    "from sklearn.model_selection import cross_val_score\n",
    "\n",
    "for i, score in enumerate(cross_validate(classifier, X_train, y_train, cv=5)[\"test_score\"]):\n",
    "    print(f\"Acurácia K-fold no. {i} : {score}\")"
   ]
  },
  {
   "cell_type": "code",
   "execution_count": null,
   "metadata": {},
   "outputs": [],
   "source": [
    "# CURVA ROC"
   ]
  },
  {
   "cell_type": "code",
   "execution_count": 175,
   "metadata": {},
   "outputs": [],
   "source": [
    "from sklearn import metrics\n",
    "\n",
    "# Calculate: fpr and tpr (all thresholds of the classification)\n",
    "probs = classifier.predict_proba(X_test)\n",
    "preds = probs[:,1]\n",
    "fpr, tpr, threshold = metrics.roc_curve(y_test, preds)\n",
    "roc_auc = metrics.auc(fpr, tpr)"
   ]
  },
  {
   "cell_type": "code",
   "execution_count": 179,
   "metadata": {},
   "outputs": [
    {
     "data": {
      "image/png": "[encoded data removed]",
      "text/plain": [
       "<Figure size 432x288 with 1 Axes>"
      ]
     },
     "metadata": {
      "needs_background": "light"
     },
     "output_type": "display_data"
    }
   ],
   "source": [
    "import matplotlib.pyplot as plt\n",
    "\n",
    "plt.title('Receiver Operating Characteristic')\n",
    "plt.plot(fpr, tpr, 'b', label = 'AUC = %0.6f' % roc_auc)\n",
    "plt.legend(loc = 'lower right')\n",
    "plt.plot([0, 1], [0, 1],'r--')\n",
    "plt.xlim([0, 1])\n",
    "plt.ylim([0, 1])\n",
    "plt.ylabel('TP-True Positive')\n",
    "plt.xlabel('FP-False Positive')\n",
    "plt.show()\n"
   ]
  },
  {
   "cell_type": "code",
   "execution_count": null,
   "metadata": {},
   "outputs": [],
   "source": []
  },
  {
   "cell_type": "code",
   "execution_count": null,
   "metadata": {},
   "outputs": [],
   "source": []
  },
  {
   "cell_type": "code",
   "execution_count": null,
   "metadata": {},
   "outputs": [],
   "source": []
  },
  {
   "cell_type": "code",
   "execution_count": null,
   "metadata": {},
   "outputs": [],
   "source": []
  },
  {
   "cell_type": "code",
   "execution_count": null,
   "metadata": {},
   "outputs": [],
   "source": []
  }
 ],
 "metadata": {
  "kernelspec": {
   "display_name": "Python 3",
   "language": "python",
   "name": "python3"
  },
  "language_info": {
   "codemirror_mode": {
    "name": "ipython",
    "version": 3
   },
   "file_extension": ".py",
   "mimetype": "text/x-python",
   "name": "python",
   "nbconvert_exporter": "python",
   "pygments_lexer": "ipython3",
   "version": "3.7.6"
  }
 },
 "nbformat": 4,
 "nbformat_minor": 5
}
