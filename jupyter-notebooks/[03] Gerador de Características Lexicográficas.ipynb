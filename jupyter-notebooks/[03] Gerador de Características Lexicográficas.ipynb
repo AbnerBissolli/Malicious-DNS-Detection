{
 "cells": [
  {
   "cell_type": "code",
   "execution_count": 3,
   "metadata": {},
   "outputs": [],
   "source": [
    "import pandas as pd\n",
    "\n",
    "df = pd.read_csv('Dataset/Generated/attributes.csv')\n",
    "df = df.fillna('')"
   ]
  },
  {
   "cell_type": "code",
   "execution_count": 5,
   "metadata": {},
   "outputs": [],
   "source": [
    "def get_len(s):\n",
    "    return len(s)\n",
    "\n",
    "df['SSD_len'] = df['SSD'].apply(get_len)\n",
    "df['SUB_len'] = df['SUB'].apply(get_len)\n",
    "df['SLD_len'] = df['SLD'].apply(get_len)"
   ]
  },
  {
   "cell_type": "code",
   "execution_count": 7,
   "metadata": {},
   "outputs": [],
   "source": [
    "def get_pct(s):\n",
    "    numbers = sum(c.isdigit() for c in s)\n",
    "    lenght  = len(s)\n",
    "    if numbers == 0:\n",
    "        return 0\n",
    "    return numbers/lenght\n",
    "\n",
    "\n",
    "df['SSD_pct'] = df['SSD'].apply(get_pct)\n",
    "df['SUB_pct'] = df['SUB'].apply(get_pct)\n",
    "df['SLD_pct'] = df['SLD'].apply(get_pct)"
   ]
  },
  {
   "cell_type": "code",
   "execution_count": 8,
   "metadata": {},
   "outputs": [],
   "source": [
    "def get_nan(s):\n",
    "    numbers = sum(c.isdigit() for c in s)\n",
    "    letters = sum(c.isalpha() for c in s)    \n",
    "    others  = len(s) - numbers - letters\n",
    "    return others\n",
    "\n",
    "df['SSD_nan'] = df['SSD'].apply(get_nan)\n",
    "df['SUB_nan'] = df['SUB'].apply(get_nan)\n",
    "df['SLD_nan'] = df['SLD'].apply(get_nan)"
   ]
  },
  {
   "cell_type": "code",
   "execution_count": 10,
   "metadata": {},
   "outputs": [],
   "source": [
    "from scipy.stats import entropy \n",
    "\n",
    "def get_etp(s):\n",
    "    if s == '':\n",
    "        return 0\n",
    "    \n",
    "    pd_series = pd.Series(list(s))\n",
    "    counts = pd_series.value_counts()\n",
    "    return entropy(counts)\n",
    "\n",
    "df['SSD_etp'] = df['SSD'].apply(get_etp)\n",
    "df['SUB_etp'] = df['SUB'].apply(get_etp)\n",
    "df['SLD_etp'] = df['SLD'].apply(get_etp)"
   ]
  },
  {
   "cell_type": "code",
   "execution_count": 14,
   "metadata": {},
   "outputs": [],
   "source": [
    "def get_nos(s):\n",
    "    word_list =s.split('.')\n",
    "    return len(word_list)\n",
    "\n",
    "df['SUB_num'] = df['SUB'].apply(get_nos)"
   ]
  },
  {
   "cell_type": "code",
   "execution_count": 18,
   "metadata": {},
   "outputs": [],
   "source": [
    "# Saving the dataset\n",
    "\n",
    "df.to_csv('Dataset/Generated/lexical_characteristics.csv', index=False)"
   ]
  }
 ],
 "metadata": {
  "kernelspec": {
   "display_name": "Python 3",
   "language": "python",
   "name": "python3"
  },
  "language_info": {
   "codemirror_mode": {
    "name": "ipython",
    "version": 3
   },
   "file_extension": ".py",
   "mimetype": "text/x-python",
   "name": "python",
   "nbconvert_exporter": "python",
   "pygments_lexer": "ipython3",
   "version": "3.7.6"
  }
 },
 "nbformat": 4,
 "nbformat_minor": 4
}
