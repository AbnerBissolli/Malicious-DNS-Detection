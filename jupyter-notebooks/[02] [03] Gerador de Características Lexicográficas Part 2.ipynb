{
 "cells": [
  {
   "cell_type": "code",
   "execution_count": 1,
   "metadata": {},
   "outputs": [],
   "source": [
    "import pandas as pd\n",
    "\n",
    "from scipy.stats import entropy\n",
    "from collections import Counter"
   ]
  },
  {
   "cell_type": "markdown",
   "metadata": {},
   "source": [
    "# Generating for Train Dataset"
   ]
  },
  {
   "cell_type": "code",
   "execution_count": 2,
   "metadata": {},
   "outputs": [],
   "source": [
    "train = pd.read_csv('../Dataset/Train/Temp/lx_train.csv')\n",
    "train = train.fillna('')"
   ]
  },
  {
   "cell_type": "code",
   "execution_count": 3,
   "metadata": {},
   "outputs": [],
   "source": [
    "################################################################\n",
    "\n",
    "def get_val_1(s):\n",
    "    total = len(s) \n",
    "    if total == 0:\n",
    "        return 0     \n",
    "    \n",
    "    s = sorted(Counter(s), key=Counter(s).get, reverse=True)\n",
    "    \n",
    "    count = 0 \n",
    "    for c in s:\n",
    "        count += s.count(c)\n",
    "        if count/total > 0.5:\n",
    "            return count\n",
    "    return count\n",
    "\n",
    "################################################################\n",
    "\n",
    "def get_val_2(s):\n",
    "    total = len(s) \n",
    "    if total == 0:\n",
    "        return 0    \n",
    "    \n",
    "    s = sorted(Counter(s), key=Counter(s).get, reverse=True)\n",
    "\n",
    "    count = 0   \n",
    "    for c in s[:5]:\n",
    "        count += s.count(c)\n",
    "    return count/total\n",
    "\n",
    "################################################################\n",
    "\n",
    "def get_val_3(s):\n",
    "    total = len(s) \n",
    "    if total == 0:\n",
    "        return ''     \n",
    "    \n",
    "    s = sorted(Counter(s), key=Counter(s).get, reverse=True)\n",
    "    return s[0]\n",
    "\n",
    "################################################################\n",
    "################################################################\n",
    "\n",
    "\n",
    "from itertools import groupby\n",
    "\n",
    "def dig_seq_l(s):\n",
    "    if len(s) == 0:\n",
    "        return 0\n",
    "    \n",
    "    res = [''.join(j).strip() for k, j in groupby(s, str.isdigit)]\n",
    "    res = [sub for sub in res if sub.isdigit()]\n",
    "    \n",
    "    if len(res) == 0:\n",
    "        return 0\n",
    "    \n",
    "    res = max(res, key = len)\n",
    "    return len(res)\n",
    "\n",
    "\n",
    "################################################################\n",
    "\n",
    "def chr_seq_l(s):\n",
    "    if len(s) == 0:\n",
    "        return 0\n",
    "    \n",
    "    res = [''.join(g) for _, g in groupby(s)]\n",
    "    res = max(res, key = len)\n",
    "    return len(res)\n",
    "\n",
    "################################################################\n",
    "\n",
    "def chr_seq_c(s):\n",
    "    if len(s) == 0:\n",
    "        return ''    \n",
    "    \n",
    "    res = [''.join(g) for _, g in groupby(s)]\n",
    "    res = max(res, key = len)\n",
    "    return res[0]\n",
    "\n",
    "################################################################"
   ]
  },
  {
   "cell_type": "code",
   "execution_count": 4,
   "metadata": {},
   "outputs": [],
   "source": [
    "train['SSD_val_1'] = train['SSD'].apply(get_val_1)\n",
    "train['SUB_val_1'] = train['SUB'].apply(get_val_1)\n",
    "train['SLD_val_1'] = train['SLD'].apply(get_val_1)\n",
    "\n",
    "train['SSD_val_2'] = train['SSD'].apply(get_val_2)\n",
    "train['SUB_val_2'] = train['SUB'].apply(get_val_2)\n",
    "train['SLD_val_2'] = train['SLD'].apply(get_val_2)\n",
    "\n",
    "train['SSD_val_3'] = train['SSD'].apply(get_val_3)\n",
    "train['SUB_val_3'] = train['SUB'].apply(get_val_3)\n",
    "train['SLD_val_3'] = train['SLD'].apply(get_val_3)\n",
    "\n",
    "train['SSD_dig_seq_l'] = train['SSD'].apply(dig_seq_l)\n",
    "train['SUB_dig_seq_l'] = train['SUB'].apply(dig_seq_l)\n",
    "train['SLD_dig_seq_l'] = train['SLD'].apply(dig_seq_l)\n",
    "\n",
    "train['SSD_chr_seq_l'] = train['SSD'].apply(chr_seq_l)\n",
    "train['SUB_chr_seq_l'] = train['SUB'].apply(chr_seq_l)\n",
    "train['SLD_chr_seq_l'] = train['SLD'].apply(chr_seq_l)\n",
    "\n",
    "train['SSD_chr_seq_c'] = train['SSD'].apply(chr_seq_c)\n",
    "train['SUB_chr_seq_c'] = train['SUB'].apply(chr_seq_c)\n",
    "train['SLD_chr_seq_c'] = train['SLD'].apply(chr_seq_c)"
   ]
  },
  {
   "cell_type": "code",
   "execution_count": 5,
   "metadata": {},
   "outputs": [],
   "source": [
    "# Saving the dataset\n",
    "\n",
    "train.to_csv('../Dataset/Train/Temp/lx_train.csv', index=False)"
   ]
  },
  {
   "cell_type": "markdown",
   "metadata": {},
   "source": [
    "# Generating for Test Dataset"
   ]
  },
  {
   "cell_type": "code",
   "execution_count": 7,
   "metadata": {},
   "outputs": [],
   "source": [
    "test = pd.read_csv('../Dataset/Test/Temp/lx_test.csv')\n",
    "test = test.fillna('')"
   ]
  },
  {
   "cell_type": "code",
   "execution_count": 8,
   "metadata": {},
   "outputs": [],
   "source": [
    "test['SSD_val_1'] = test['SSD'].apply(get_val_1)\n",
    "test['SUB_val_1'] = test['SUB'].apply(get_val_1)\n",
    "test['SLD_val_1'] = test['SLD'].apply(get_val_1)\n",
    "\n",
    "test['SSD_val_2'] = test['SSD'].apply(get_val_2)\n",
    "test['SUB_val_2'] = test['SUB'].apply(get_val_2)\n",
    "test['SLD_val_2'] = test['SLD'].apply(get_val_2)\n",
    "\n",
    "test['SSD_val_3'] = test['SSD'].apply(get_val_3)\n",
    "test['SUB_val_3'] = test['SUB'].apply(get_val_3)\n",
    "test['SLD_val_3'] = test['SLD'].apply(get_val_3)\n",
    "\n",
    "test['SSD_dig_seq_l'] = test['SSD'].apply(dig_seq_l)\n",
    "test['SUB_dig_seq_l'] = test['SUB'].apply(dig_seq_l)\n",
    "test['SLD_dig_seq_l'] = test['SLD'].apply(dig_seq_l)\n",
    "\n",
    "test['SSD_chr_seq_l'] = test['SSD'].apply(chr_seq_l)\n",
    "test['SUB_chr_seq_l'] = test['SUB'].apply(chr_seq_l)\n",
    "test['SLD_chr_seq_l'] = test['SLD'].apply(chr_seq_l)\n",
    "\n",
    "test['SSD_chr_seq_c'] = test['SSD'].apply(chr_seq_c)\n",
    "test['SUB_chr_seq_c'] = test['SUB'].apply(chr_seq_c)\n",
    "test['SLD_chr_seq_c'] = test['SLD'].apply(chr_seq_c)"
   ]
  },
  {
   "cell_type": "code",
   "execution_count": 9,
   "metadata": {},
   "outputs": [],
   "source": [
    "# Saving the dataset\n",
    "\n",
    "test.to_csv('../Dataset/Test/Temp/lx_test.csv', index=False)"
   ]
  },
  {
   "cell_type": "code",
   "execution_count": null,
   "metadata": {},
   "outputs": [],
   "source": []
  }
 ],
 "metadata": {
  "kernelspec": {
   "display_name": "Python 3",
   "language": "python",
   "name": "python3"
  },
  "language_info": {
   "codemirror_mode": {
    "name": "ipython",
    "version": 3
   },
   "file_extension": ".py",
   "mimetype": "text/x-python",
   "name": "python",
   "nbconvert_exporter": "python",
   "pygments_lexer": "ipython3",
   "version": "3.7.6"
  }
 },
 "nbformat": 4,
 "nbformat_minor": 4
}
