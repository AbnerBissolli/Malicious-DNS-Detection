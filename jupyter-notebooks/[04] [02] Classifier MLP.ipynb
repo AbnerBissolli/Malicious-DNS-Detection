{
 "cells": [
  {
   "cell_type": "code",
   "execution_count": 1,
   "metadata": {},
   "outputs": [],
   "source": [
    "import numpy as  np\n",
    "\n",
    "import pandas as pd\n",
    "from sklearn.neural_network import MLPClassifier\n",
    "\n",
    "import seaborn as sns\n",
    "import matplotlib.pyplot as plt\n",
    "\n",
    "from sklearn.metrics import confusion_matrix\n",
    "from sklearn.metrics import classification_report\n",
    "from sklearn.metrics import RocCurveDisplay"
   ]
  },
  {
   "cell_type": "code",
   "execution_count": 2,
   "metadata": {},
   "outputs": [],
   "source": [
    "# Reading The datasets\n",
    "train = pd.read_csv('../Dataset/Train/train.csv')\n",
    "test = pd.read_csv('../Dataset/Test/test.csv')"
   ]
  },
  {
   "cell_type": "code",
   "execution_count": 4,
   "metadata": {},
   "outputs": [],
   "source": [
    "X_train = train.drop(columns=['class', 'sub_class'])\n",
    "y_train = train['class']\n",
    "\n",
    "X_test = test.drop(columns=['class', 'sub_class'])\n",
    "y_test = test['class']"
   ]
  },
  {
   "cell_type": "code",
   "execution_count": 5,
   "metadata": {},
   "outputs": [
    {
     "name": "stdout",
     "output_type": "stream",
     "text": [
      "Iteration 1, loss = 0.45425691\n",
      "Validation score: 0.809443\n",
      "Iteration 2, loss = 0.42653729\n",
      "Validation score: 0.817387\n",
      "Iteration 3, loss = 0.42092738\n",
      "Validation score: 0.820111\n",
      "Iteration 4, loss = 0.41750775\n",
      "Validation score: 0.820565\n",
      "Iteration 5, loss = 0.41593865\n",
      "Validation score: 0.813983\n",
      "Iteration 6, loss = 0.41445557\n",
      "Validation score: 0.825218\n",
      "Iteration 7, loss = 0.41379188\n",
      "Validation score: 0.817160\n",
      "Iteration 8, loss = 0.41271119\n",
      "Validation score: 0.825332\n",
      "Iteration 9, loss = 0.41231514\n",
      "Validation score: 0.826013\n",
      "Iteration 10, loss = 0.41165285\n",
      "Validation score: 0.826013\n",
      "Iteration 11, loss = 0.41103771\n",
      "Validation score: 0.825899\n",
      "Iteration 12, loss = 0.41045070\n",
      "Validation score: 0.823630\n",
      "Iteration 13, loss = 0.40974789\n",
      "Validation score: 0.821019\n",
      "Iteration 14, loss = 0.40925575\n",
      "Validation score: 0.824878\n",
      "Iteration 15, loss = 0.40887063\n",
      "Validation score: 0.825105\n",
      "Iteration 16, loss = 0.40810412\n",
      "Validation score: 0.825445\n",
      "Iteration 17, loss = 0.40752580\n",
      "Validation score: 0.824651\n",
      "Iteration 18, loss = 0.40687939\n",
      "Validation score: 0.825672\n",
      "Iteration 19, loss = 0.40619398\n",
      "Validation score: 0.819430\n",
      "Iteration 20, loss = 0.40555348\n",
      "Validation score: 0.826240\n",
      "Iteration 21, loss = 0.40516314\n",
      "Validation score: 0.825332\n",
      "Iteration 22, loss = 0.40445144\n",
      "Validation score: 0.825332\n",
      "Iteration 23, loss = 0.40419826\n",
      "Validation score: 0.825332\n",
      "Iteration 24, loss = 0.40342406\n",
      "Validation score: 0.822949\n",
      "Iteration 25, loss = 0.40317919\n",
      "Validation score: 0.825559\n",
      "Iteration 26, loss = 0.40272386\n",
      "Validation score: 0.826467\n",
      "Iteration 27, loss = 0.40244864\n",
      "Validation score: 0.827715\n",
      "Iteration 28, loss = 0.40201854\n",
      "Validation score: 0.826467\n",
      "Iteration 29, loss = 0.40176956\n",
      "Validation score: 0.826694\n",
      "Iteration 30, loss = 0.40101689\n",
      "Validation score: 0.827715\n",
      "Iteration 31, loss = 0.40075124\n",
      "Validation score: 0.822381\n",
      "Iteration 32, loss = 0.40086749\n",
      "Validation score: 0.827375\n",
      "Iteration 33, loss = 0.40034136\n",
      "Validation score: 0.827602\n",
      "Iteration 34, loss = 0.40027435\n",
      "Validation score: 0.827829\n",
      "Iteration 35, loss = 0.39990490\n",
      "Validation score: 0.826240\n",
      "Iteration 36, loss = 0.40002344\n",
      "Validation score: 0.827148\n",
      "Iteration 37, loss = 0.39960418\n",
      "Validation score: 0.824651\n",
      "Iteration 38, loss = 0.39947078\n",
      "Validation score: 0.823289\n",
      "Iteration 39, loss = 0.39932857\n",
      "Validation score: 0.825786\n",
      "Iteration 40, loss = 0.39935013\n",
      "Validation score: 0.824651\n",
      "Iteration 41, loss = 0.39884531\n",
      "Validation score: 0.827261\n",
      "Iteration 42, loss = 0.39897451\n",
      "Validation score: 0.828056\n",
      "Iteration 43, loss = 0.39888286\n",
      "Validation score: 0.827148\n",
      "Iteration 44, loss = 0.39866457\n",
      "Validation score: 0.826240\n",
      "Iteration 45, loss = 0.39850507\n",
      "Validation score: 0.827942\n",
      "Iteration 46, loss = 0.39840856\n",
      "Validation score: 0.828737\n",
      "Iteration 47, loss = 0.39834453\n",
      "Validation score: 0.825672\n",
      "Iteration 48, loss = 0.39825270\n",
      "Validation score: 0.828056\n",
      "Iteration 49, loss = 0.39806021\n",
      "Validation score: 0.826353\n",
      "Iteration 50, loss = 0.39786431\n",
      "Validation score: 0.827942\n",
      "Iteration 51, loss = 0.39799413\n",
      "Validation score: 0.828169\n",
      "Iteration 52, loss = 0.39781429\n",
      "Validation score: 0.825445\n",
      "Iteration 53, loss = 0.39771352\n",
      "Validation score: 0.827715\n",
      "Iteration 54, loss = 0.39795972\n",
      "Validation score: 0.827034\n",
      "Iteration 55, loss = 0.39755905\n",
      "Validation score: 0.825899\n",
      "Iteration 56, loss = 0.39748163\n",
      "Validation score: 0.823857\n",
      "Iteration 57, loss = 0.39721154\n",
      "Validation score: 0.826694\n",
      "Validation score did not improve more than tol=0.000100 for 10 consecutive epochs. Stopping.\n"
     ]
    },
    {
     "data": {
      "text/plain": [
       "MLPClassifier(batch_size=32, early_stopping=True, hidden_layer_sizes=100,\n",
       "              learning_rate='adaptive', max_iter=100, random_state=42,\n",
       "              verbose=True)"
      ]
     },
     "execution_count": 5,
     "metadata": {},
     "output_type": "execute_result"
    }
   ],
   "source": [
    "clf = MLPClassifier(hidden_layer_sizes=(100),\n",
    "                    random_state=42,\n",
    "                    max_iter=100,\n",
    "                    learning_rate_init=0.001,\n",
    "                    learning_rate='adaptive',\n",
    "                    validation_fraction = 0.1,\n",
    "                    batch_size = 32,\n",
    "                    early_stopping = True,\n",
    "                    verbose=True,               \n",
    "                   )\n",
    "\n",
    "clf.fit(X_train.values, y_train.values)"
   ]
  },
  {
   "cell_type": "code",
   "execution_count": 39,
   "metadata": {},
   "outputs": [
    {
     "data": {
      "image/png": "[encoded data removed]",
      "text/plain": [
       "<Figure size 432x288 with 1 Axes>"
      ]
     },
     "metadata": {
      "needs_background": "light"
     },
     "output_type": "display_data"
    }
   ],
   "source": [
    "train_loss = clf.loss_curve_\n",
    "valid_acc = clf.validation_scores_\n",
    "\n",
    "# plt.plot(train_loss, color='tab:blue')\n",
    "plt.plot(valid_acc, color='tab:orange')\n",
    "\n",
    "plt.show()"
   ]
  },
  {
   "cell_type": "code",
   "execution_count": 8,
   "metadata": {},
   "outputs": [
    {
     "name": "stderr",
     "output_type": "stream",
     "text": [
      "/home/abner_bissolli/anaconda3/lib/python3.7/site-packages/sklearn/base.py:439: UserWarning: X has feature names, but MLPClassifier was fitted without feature names\n",
      "  f\"X has feature names, but {self.__class__.__name__} was fitted without\"\n"
     ]
    }
   ],
   "source": [
    "y_pred = clf.predict(X_test)"
   ]
  },
  {
   "cell_type": "code",
   "execution_count": 9,
   "metadata": {},
   "outputs": [
    {
     "data": {
      "text/plain": [
       "<matplotlib.axes._subplots.AxesSubplot at 0x7f7ec539fa90>"
      ]
     },
     "execution_count": 9,
     "metadata": {},
     "output_type": "execute_result"
    },
    {
     "data": {
      "image/png": "[encoded data removed]",
      "text/plain": [
       "<Figure size 576x432 with 2 Axes>"
      ]
     },
     "metadata": {
      "needs_background": "light"
     },
     "output_type": "display_data"
    }
   ],
   "source": [
    "cm = confusion_matrix(y_test, y_pred, normalize='true')\n",
    "cr = classification_report(y_test, y_pred, labels=[0,1], output_dict=True)\n",
    "\n",
    "fig, ax = plt.subplots(figsize=(8,6))\n",
    "sns.heatmap(cm, cmap=\"YlGnBu\", annot=True, fmt=\".2f\")"
   ]
  },
  {
   "cell_type": "code",
   "execution_count": null,
   "metadata": {},
   "outputs": [],
   "source": []
  },
  {
   "cell_type": "code",
   "execution_count": 10,
   "metadata": {},
   "outputs": [
    {
     "data": {
      "text/plain": [
       "<sklearn.metrics._plot.roc_curve.RocCurveDisplay at 0x7f7ec5659ed0>"
      ]
     },
     "execution_count": 10,
     "metadata": {},
     "output_type": "execute_result"
    },
    {
     "data": {
      "image/png": "[encoded data removed]",
      "text/plain": [
       "<Figure size 432x288 with 1 Axes>"
      ]
     },
     "metadata": {
      "needs_background": "light"
     },
     "output_type": "display_data"
    }
   ],
   "source": [
    "RocCurveDisplay.from_estimator(clf, X_test.values, y_test.values, pos_label=1) "
   ]
  },
  {
   "cell_type": "code",
   "execution_count": 11,
   "metadata": {},
   "outputs": [
    {
     "data": {
      "text/plain": [
       "{'0': {'precision': 0.8329433497536946,\n",
       "  'recall': 0.9129378416683539,\n",
       "  'f1-score': 0.8711079627781176,\n",
       "  'support': 14817},\n",
       " '1': {'precision': 0.7770480470100242,\n",
       "  'recall': 0.6236648633652379,\n",
       "  'f1-score': 0.691958445555983,\n",
       "  'support': 7209},\n",
       " 'accuracy': 0.8182602379006628,\n",
       " 'macro avg': {'precision': 0.8049956983818594,\n",
       "  'recall': 0.7683013525167959,\n",
       "  'f1-score': 0.7815332041670503,\n",
       "  'support': 22026},\n",
       " 'weighted avg': {'precision': 0.8146490958047652,\n",
       "  'recall': 0.8182602379006628,\n",
       "  'f1-score': 0.8124732188548285,\n",
       "  'support': 22026}}"
      ]
     },
     "execution_count": 11,
     "metadata": {},
     "output_type": "execute_result"
    }
   ],
   "source": [
    "cr"
   ]
  }
 ],
 "metadata": {
  "kernelspec": {
   "display_name": "Python 3",
   "language": "python",
   "name": "python3"
  },
  "language_info": {
   "codemirror_mode": {
    "name": "ipython",
    "version": 3
   },
   "file_extension": ".py",
   "mimetype": "text/x-python",
   "name": "python",
   "nbconvert_exporter": "python",
   "pygments_lexer": "ipython3",
   "version": "3.7.6"
  }
 },
 "nbformat": 4,
 "nbformat_minor": 4
}
