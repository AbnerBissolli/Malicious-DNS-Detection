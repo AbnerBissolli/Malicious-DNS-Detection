{
 "cells": [
  {
   "cell_type": "code",
   "execution_count": 1,
   "id": "693716ee",
   "metadata": {},
   "outputs": [],
   "source": [
    "import pandas as pd\n",
    "import numpy as np\n",
    "df = pd.read_csv('C:\\\\Users\\\\Michele\\\\Desktop\\\\tenta.csv',engine='python', sep=',')"
   ]
  },
  {
   "cell_type": "code",
   "execution_count": 2,
   "id": "5543191d",
   "metadata": {},
   "outputs": [],
   "source": [
    "# Iniciando trasnformação de texto para número na Coluna \"TLD\" do Dataframe"
   ]
  },
  {
   "cell_type": "code",
   "execution_count": 3,
   "id": "4237ac4c",
   "metadata": {},
   "outputs": [],
   "source": [
    "# Seleção da coluna para transformar de texto para número\n",
    "dfnew = df['TLD']\n",
    "# Excluindo valores NaN\n",
    "dfnew.dropna(axis=0, how=\"any\", inplace=True)\n",
    "\n",
    "from sklearn.feature_extraction.text import TfidfVectorizer\n",
    "# Padrão para extração do token\n",
    "tfidf = TfidfVectorizer(use_idf=True, analyzer=\"word\", token_pattern=\"[a-z]+\\W[a-z]+|[a-z]+\")\n",
    "tfidf_vector = tfidf.fit_transform(dfnew)\n",
    "df_tfidf = pd.DataFrame(tfidf.idf_, index=tfidf.get_feature_names(), columns=[\"tfidf\"])\n",
    "\n",
    "# Atribuição do dicionário\n",
    "df_dict = df_tfidf.to_dict()\n",
    "\n",
    "#Alterando a coluna \"TLD\" no Dataframe para número\n",
    "df['TLD'] = df['TLD'].map(df_dict['tfidf']).fillna(df['TLD'])"
   ]
  },
  {
   "cell_type": "code",
   "execution_count": null,
   "id": "13398c30",
   "metadata": {},
   "outputs": [],
   "source": [
    "# Grava Dataframe com \"TLD\" e \"country\" em formato numérico\n",
    "result.to_csv('Dataset/Generated/characteristics.csv', index=False)"
   ]
  }
 ],
 "metadata": {
  "kernelspec": {
   "display_name": "Python 3",
   "language": "python",
   "name": "python3"
  },
  "language_info": {
   "codemirror_mode": {
    "name": "ipython",
    "version": 3
   },
   "file_extension": ".py",
   "mimetype": "text/x-python",
   "name": "python",
   "nbconvert_exporter": "python",
   "pygments_lexer": "ipython3",
   "version": "3.8.8"
  }
 },
 "nbformat": 4,
 "nbformat_minor": 5
}
