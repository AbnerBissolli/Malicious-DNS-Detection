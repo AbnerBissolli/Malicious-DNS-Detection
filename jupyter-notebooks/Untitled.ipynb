{
 "cells": [
  {
   "cell_type": "code",
   "execution_count": 1,
   "metadata": {},
   "outputs": [],
   "source": [
    "import numpy as np\n",
    "import pandas as pd\n",
    "\n",
    "np.random.seed(42)"
   ]
  },
  {
   "cell_type": "code",
   "execution_count": 2,
   "metadata": {},
   "outputs": [],
   "source": [
    "df = pd.read_csv('../Dataset/Domains/Clean/domains_raw.csv')\n",
    "\n",
    "cnt_be = df[df['class']=='benign'].shape[0]\n",
    "cnt_mw = df[df['class']!='benign'].shape[0]\n",
    "\n",
    "raw_prop = cnt_mw/(cnt_mw+cnt_be)"
   ]
  },
  {
   "cell_type": "code",
   "execution_count": 3,
   "metadata": {},
   "outputs": [],
   "source": [
    "train = pd.read_csv('../Dataset/Train/train.csv')\n",
    "test  = pd.read_csv('../Dataset/Test/test.csv')\n",
    "\n",
    "cnt_be_tr = train[train['class']==0].shape[0]\n",
    "cnt_mw_tr = train[train['class']!=0].shape[0]\n",
    "cnt_be_te = test[test['class']==0].shape[0]\n",
    "cnt_mw_te = test[test['class']!=0].shape[0]"
   ]
  },
  {
   "cell_type": "code",
   "execution_count": 4,
   "metadata": {},
   "outputs": [],
   "source": [
    "rm_mw_tr = round(cnt_mw_tr - raw_prop*(cnt_be_tr+cnt_mw_tr))\n",
    "rm_mw_te = round(cnt_mw_te - raw_prop*(cnt_be_te+cnt_mw_te))"
   ]
  },
  {
   "cell_type": "code",
   "execution_count": 5,
   "metadata": {},
   "outputs": [],
   "source": [
    "# Unbalancing Train Dataset\n",
    "drop_indices = np.random.choice(train[train['class']==1].index, rm_mw_tr, replace=False)\n",
    "train_subset = train.drop(drop_indices)\n",
    "train_subset = train_subset.reset_index(drop=True)\n",
    "train_subset.to_csv('../Dataset/Train/un_train.csv')"
   ]
  },
  {
   "cell_type": "code",
   "execution_count": 6,
   "metadata": {},
   "outputs": [],
   "source": [
    "# Unbalancing Test Dataset\n",
    "drop_indices = np.random.choice(test[test['class']==1].index, rm_mw_te, replace=False)\n",
    "test_subset = test.drop(drop_indices)\n",
    "test_subset = test_subset.reset_index(drop=True)\n",
    "test_subset.to_csv('../Dataset/Test/un_test.csv')"
   ]
  }
 ],
 "metadata": {
  "kernelspec": {
   "display_name": "Python 3",
   "language": "python",
   "name": "python3"
  },
  "language_info": {
   "codemirror_mode": {
    "name": "ipython",
    "version": 3
   },
   "file_extension": ".py",
   "mimetype": "text/x-python",
   "name": "python",
   "nbconvert_exporter": "python",
   "pygments_lexer": "ipython3",
   "version": "3.7.6"
  }
 },
 "nbformat": 4,
 "nbformat_minor": 4
}
