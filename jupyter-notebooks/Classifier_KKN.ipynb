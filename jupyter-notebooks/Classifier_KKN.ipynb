{
 "cells": [
  {
   "cell_type": "code",
   "execution_count": 114,
   "id": "fc7f75e5",
   "metadata": {},
   "outputs": [],
   "source": [
    "import pandas as pd\n",
    "import numpy as np\n",
    "import matplotlib.pyplot as plt"
   ]
  },
  {
   "cell_type": "code",
   "execution_count": 115,
   "id": "16678e15",
   "metadata": {},
   "outputs": [],
   "source": [
    "# Carrega Dataset\n",
    "df_train = pd.read_csv('C:\\\\Users\\\\Michele\\\\Desktop\\\\Malicious\\\\Dataset\\\\Train\\\\train.csv', engine='python', sep=',')\n",
    "df_test = pd.read_csv('C:\\\\Users\\\\Michele\\\\Desktop\\Malicious\\\\Dataset\\\\Test\\\\test.csv', engine='python', sep=',')"
   ]
  },
  {
   "cell_type": "code",
   "execution_count": 116,
   "id": "ef30eb96",
   "metadata": {},
   "outputs": [],
   "source": [
    "X_train = df_train.drop(columns=['class', 'sub_class'], axis=1)\n",
    "X_test = df_test.drop(columns=['class', 'sub_class'])\n",
    "\n",
    "y_train = df_train['class']\n",
    "y_test = df_test['class']"
   ]
  },
  {
   "cell_type": "code",
   "execution_count": 117,
   "id": "3bd0b5e1",
   "metadata": {},
   "outputs": [],
   "source": [
    "from sklearn.model_selection import train_test_split\n",
    "\n",
    "#Importando o modelo KNN\n",
    "from sklearn.neighbors import KNeighborsClassifier "
   ]
  },
  {
   "cell_type": "code",
   "execution_count": 118,
   "id": "6801fa5d",
   "metadata": {},
   "outputs": [
    {
     "data": {
      "text/plain": [
       "KNeighborsClassifier(n_neighbors=8)"
      ]
     },
     "execution_count": 118,
     "metadata": {},
     "output_type": "execute_result"
    }
   ],
   "source": [
    "# Definindo o valor de vizinhos\n",
    "classifier = KNeighborsClassifier(n_neighbors=8)  \n",
    "\n",
    "#Treinando o modelo, com dados de treinamento\n",
    "classifier.fit(X_train, y_train)  "
   ]
  },
  {
   "cell_type": "code",
   "execution_count": 119,
   "id": "8cb64da6",
   "metadata": {},
   "outputs": [],
   "source": [
    "# Prevendo os valores de Y para os dados de teste (X_test)\n",
    "y_pred = classifier.predict(X_test) "
   ]
  },
  {
   "cell_type": "code",
   "execution_count": 120,
   "id": "7fac5d7a",
   "metadata": {},
   "outputs": [],
   "source": []
  },
  {
   "cell_type": "code",
   "execution_count": 122,
   "id": "752a7721",
   "metadata": {},
   "outputs": [
    {
     "name": "stdout",
     "output_type": "stream",
     "text": [
      "Matriz Confusa: \n",
      "[[13796  1021]\n",
      " [ 3084  4125]] \n",
      "\n",
      "Relatório de classificação: \n",
      "               precision    recall  f1-score   support\n",
      "\n",
      "           0       0.82      0.93      0.87     14817\n",
      "           1       0.80      0.57      0.67      7209\n",
      "\n",
      "    accuracy                           0.81     22026\n",
      "   macro avg       0.81      0.75      0.77     22026\n",
      "weighted avg       0.81      0.81      0.80     22026\n",
      "\n",
      "Acurácia do modelo:  0.8136293471352039\n"
     ]
    }
   ],
   "source": [
    "# Importando métricas para validação do modelo\n",
    "from sklearn.metrics import classification_report, confusion_matrix, accuracy_score\n",
    "\n",
    "# Imprimindo a matriz confusa\n",
    "print(\"Matriz Confusa: \")\n",
    "print(confusion_matrix(y_test, y_pred), \"\\n\")  \n",
    "\n",
    "# Imprimindo o relatório de classificação\n",
    "print(\"Relatório de classificação: \\n\", classification_report(y_test, y_pred))  \n",
    "\n",
    "# Imprimindo o quão acurado foi o modelo\n",
    "print('Acurácia do modelo: ' , accuracy_score(y_test, y_pred))"
   ]
  },
  {
   "cell_type": "code",
   "execution_count": null,
   "id": "edeb7f05",
   "metadata": {},
   "outputs": [],
   "source": []
  },
  {
   "cell_type": "code",
   "execution_count": 123,
   "id": "eef4dac8",
   "metadata": {},
   "outputs": [
    {
     "data": {
      "text/plain": [
       "Text(0, 0.5, 'Mean Error')"
      ]
     },
     "execution_count": 123,
     "metadata": {},
     "output_type": "execute_result"
    },
    {
     "data": {
      "image/png": "[encoded data removed]",
      "text/plain": [
       "<Figure size 864x432 with 1 Axes>"
      ]
     },
     "metadata": {
      "needs_background": "light"
     },
     "output_type": "display_data"
    }
   ],
   "source": [
    "error = []\n",
    "# Calculating error for K values\n",
    "for i in range(1, 10):\n",
    "    knn = KNeighborsClassifier(n_neighbors=i)\n",
    "    knn.fit(X_train, y_train)\n",
    "    pred_i = knn.predict(X_test)\n",
    "    error.append(np.mean(pred_i != y_test))\n",
    "\n",
    "plt.figure(figsize=(12, 6))  \n",
    "plt.plot(range(1, 10), error, color='red', linestyle='dashed', marker='o',  \n",
    "         markerfacecolor='blue', markersize=10)\n",
    "plt.title('Error Rate K Value')  \n",
    "plt.xlabel('K Value')  \n",
    "plt.ylabel('Mean Error') "
   ]
  },
  {
   "cell_type": "code",
   "execution_count": null,
   "id": "c1c89d99",
   "metadata": {},
   "outputs": [],
   "source": []
  },
  {
   "cell_type": "code",
   "execution_count": 124,
   "id": "b5e6d846",
   "metadata": {},
   "outputs": [],
   "source": [
    "from sklearn.model_selection import cross_validate\n"
   ]
  },
  {
   "cell_type": "code",
   "execution_count": 132,
   "id": "4f7f4626",
   "metadata": {},
   "outputs": [],
   "source": [
    "# K-fold (k=5)\n",
    "scores = cross_validate(classifier, X, y, cv=5)"
   ]
  },
  {
   "cell_type": "code",
   "execution_count": 133,
   "id": "87344870",
   "metadata": {},
   "outputs": [
    {
     "name": "stdout",
     "output_type": "stream",
     "text": [
      "Accuracy: %0.2f (+/- %0.2f)\n"
     ]
    }
   ],
   "source": [
    "# Results\n",
    "print(\"Accuracy: %0.2f (+/- %0.2f)\")"
   ]
  },
  {
   "cell_type": "code",
   "execution_count": null,
   "id": "10613c60",
   "metadata": {},
   "outputs": [],
   "source": []
  }
 ],
 "metadata": {
  "kernelspec": {
   "display_name": "Python 3",
   "language": "python",
   "name": "python3"
  },
  "language_info": {
   "codemirror_mode": {
    "name": "ipython",
    "version": 3
   },
   "file_extension": ".py",
   "mimetype": "text/x-python",
   "name": "python",
   "nbconvert_exporter": "python",
   "pygments_lexer": "ipython3",
   "version": "3.8.8"
  }
 },
 "nbformat": 4,
 "nbformat_minor": 5
}
