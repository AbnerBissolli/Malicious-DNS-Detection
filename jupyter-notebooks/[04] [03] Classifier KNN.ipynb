{
 "cells": [
  {
   "cell_type": "code",
   "execution_count": 87,
   "id": "4aa6b8e9",
   "metadata": {},
   "outputs": [],
   "source": [
    "import pandas as pd\n",
    "import numpy as np\n",
    "import matplotlib.pyplot as plt\n",
    "import seaborn as sns"
   ]
  },
  {
   "cell_type": "code",
   "execution_count": 88,
   "id": "499215e5",
   "metadata": {},
   "outputs": [],
   "source": [
    "# CARREGA DATASET\n",
    "df_train = pd.read_csv('../Dataset/Train/train.csv', engine='python', sep=',')\n",
    "df_test = pd.read_csv('../Dataset/Train/test.csv', engine='python', sep=',')"
   ]
  },
  {
   "cell_type": "code",
   "execution_count": 89,
   "id": "05affa84",
   "metadata": {},
   "outputs": [],
   "source": [
    "# DADOS DE TREINAMENTO E TESTE\n",
    "\n",
    "X_train = df_train.drop(columns=['class', 'sub_class'], axis=1)\n",
    "X_test = df_test.drop(columns=['class', 'sub_class'])\n",
    "\n",
    "y_train = df_train['class']\n",
    "y_test = df_test['class']"
   ]
  },
  {
   "cell_type": "code",
   "execution_count": 90,
   "id": "8cb5d944",
   "metadata": {},
   "outputs": [],
   "source": [
    "# IMPORTANDO O MODELO KNN\n",
    "from sklearn.neighbors import KNeighborsClassifier \n",
    "from sklearn.model_selection import train_test_split"
   ]
  },
  {
   "cell_type": "code",
   "execution_count": 91,
   "id": "41e89f13",
   "metadata": {},
   "outputs": [
    {
     "data": {
      "text/plain": [
       "KNeighborsClassifier(n_neighbors=8)"
      ]
     },
     "execution_count": 91,
     "metadata": {},
     "output_type": "execute_result"
    }
   ],
   "source": [
    "# DEFININDO O NÚMERO DOS K VIZINHOS\n",
    "classifier = KNeighborsClassifier(n_neighbors=8)  \n",
    "\n",
    "# TREINANDO O MODELO\n",
    "classifier.fit(X_train, y_train)  "
   ]
  },
  {
   "cell_type": "code",
   "execution_count": 92,
   "id": "debbd178",
   "metadata": {},
   "outputs": [],
   "source": [
    "# PREVENDO VALORES DE Y PARA OS DADOS DE TESTE (X_test)\n",
    "y_pred = classifier.predict(X_test) "
   ]
  },
  {
   "cell_type": "code",
   "execution_count": 93,
   "id": "78914a66",
   "metadata": {},
   "outputs": [
    {
     "data": {
      "text/plain": [
       "<AxesSubplot:>"
      ]
     },
     "execution_count": 93,
     "metadata": {},
     "output_type": "execute_result"
    },
    {
     "data": {
      "image/png": "[encoded data removed]",
      "text/plain": [
       "<Figure size 288x144 with 2 Axes>"
      ]
     },
     "metadata": {
      "needs_background": "light"
     },
     "output_type": "display_data"
    }
   ],
   "source": [
    "# IMPORTANDO PARA VALIDAÇÃO DO MODELO\n",
    "from sklearn.metrics import classification_report, confusion_matrix, accuracy_score\n",
    "from sklearn.metrics import precision_score, recall_score, f1_score\n",
    "from sklearn.metrics import precision_recall_curve\n",
    "from sklearn.metrics import plot_precision_recall_curve\n",
    "\n",
    "# MATRIZ DE CONFUSÃO\n",
    "y_pred = classifier.predict(X_test)\n",
    "cm = confusion_matrix(y_test, y_pred, normalize='true')\n",
    "\n",
    "fig, ax = plt.subplots(figsize=(4,2))\n",
    "sns.heatmap(cm, cmap=\"YlGnBu\", annot=True, fmt=\".2f\")"
   ]
  },
  {
   "cell_type": "code",
   "execution_count": 94,
   "id": "faaa7eb9",
   "metadata": {},
   "outputs": [
    {
     "name": "stdout",
     "output_type": "stream",
     "text": [
      "RELATÓRIO DE CLASSIFICAÇÃO: \n",
      "               precision    recall  f1-score   support\n",
      "\n",
      "           0       0.74      0.84      0.79      7372\n",
      "           1       0.82      0.70      0.76      7312\n",
      "\n",
      "    accuracy                           0.77     14684\n",
      "   macro avg       0.78      0.77      0.77     14684\n",
      "weighted avg       0.78      0.77      0.77     14684\n",
      "\n"
     ]
    },
    {
     "data": {
      "image/png": "[encoded data removed]",
      "text/plain": [
       "<Figure size 432x288 with 1 Axes>"
      ]
     },
     "metadata": {
      "needs_background": "light"
     },
     "output_type": "display_data"
    }
   ],
   "source": [
    "# RELATÓRIO DE CLASSIFICAÇÃO\n",
    "print(\"RELATÓRIO DE CLASSIFICAÇÃO: \\n\", classification_report(y_test, y_pred)) \n",
    "cr = classification_report(y_test, y_pred, labels=[0,1], output_dict=True)\n",
    "\n",
    "# PRECISION X RECALL\n",
    "disp = plot_precision_recall_curve(classifier, X_test, y_test)"
   ]
  },
  {
   "cell_type": "code",
   "execution_count": 95,
   "id": "6972e683",
   "metadata": {},
   "outputs": [
    {
     "name": "stdout",
     "output_type": "stream",
     "text": [
      "ACURÁCIA: 0.77452\n",
      "PRECISION: 0.81749\n",
      "RECALL: 0.70446\n",
      "F1 SCORE: 0.75678\n"
     ]
    }
   ],
   "source": [
    "print('ACURÁCIA: %.5f' % accuracy_score(y_test, y_pred))\n",
    "print('PRECISION: %.5f' % precision_score(y_test, y_pred))\n",
    "print('RECALL: %.5f' % recall_score(y_test, y_pred))\n",
    "print('F1 SCORE: %.5f' % f1_score(y_test, y_pred))"
   ]
  },
  {
   "cell_type": "code",
   "execution_count": null,
   "id": "aee79792",
   "metadata": {},
   "outputs": [],
   "source": [
    "# CALCULANDO O VALOR DE ERRO DE K"
   ]
  },
  {
   "cell_type": "code",
   "execution_count": 79,
   "id": "2e1a49dd",
   "metadata": {},
   "outputs": [],
   "source": [
    "error = []\n",
    "for i in range(1, 10):\n",
    "    knn = KNeighborsClassifier(n_neighbors=i)\n",
    "    knn.fit(X_train, y_train)\n",
    "    pred_i = knn.predict(X_test)\n",
    "    error.append(np.mean(pred_i != y_test))"
   ]
  },
  {
   "cell_type": "code",
   "execution_count": 86,
   "id": "914407ef",
   "metadata": {},
   "outputs": [
    {
     "data": {
      "text/plain": [
       "Text(0, 0.5, 'Média de Erro')"
      ]
     },
     "execution_count": 86,
     "metadata": {},
     "output_type": "execute_result"
    },
    {
     "data": {
      "image/png": "[encoded data removed]",
      "text/plain": [
       "<Figure size 360x216 with 1 Axes>"
      ]
     },
     "metadata": {
      "needs_background": "light"
     },
     "output_type": "display_data"
    }
   ],
   "source": [
    "# GRÁFICO PARA MELHOR VALOR DE K\n",
    "\n",
    "plt.figure(figsize=(5, 3))  \n",
    "plt.plot(range(1, 10), error, color='blue', linestyle='dashed', marker='o',  \n",
    "         markerfacecolor='blue', markersize=11)\n",
    "plt.title('Valor da taxa de Erro de K')  \n",
    "plt.xlabel('Valor de K')  \n",
    "plt.ylabel('Média de Erro') "
   ]
  },
  {
   "cell_type": "code",
   "execution_count": 96,
   "id": "24984427",
   "metadata": {},
   "outputs": [],
   "source": [
    "#CROSS VALIDATION\n",
    "from sklearn.model_selection import cross_val_score"
   ]
  },
  {
   "cell_type": "code",
   "execution_count": 97,
   "id": "e0089c7c",
   "metadata": {},
   "outputs": [
    {
     "name": "stdout",
     "output_type": "stream",
     "text": [
      "Acurácia K-fold no. 0 : 0.7721120286030476\n",
      "Acurácia K-fold no. 1 : 0.7693028007150762\n",
      "Acurácia K-fold no. 2 : 0.771686388013961\n",
      "Acurácia K-fold no. 3 : 0.7643653698816719\n",
      "Acurácia K-fold no. 4 : 0.7656223395198365\n"
     ]
    }
   ],
   "source": [
    "for i, score in enumerate(cross_val_score(classifier, X_train, y_train, cv=5)):\n",
    "    print(f\"Acurácia K-fold no. {i} : {score}\")"
   ]
  },
  {
   "cell_type": "code",
   "execution_count": 63,
   "id": "002e2056",
   "metadata": {},
   "outputs": [],
   "source": [
    "# CURVA ROC"
   ]
  },
  {
   "cell_type": "code",
   "execution_count": 64,
   "id": "a93ff09b",
   "metadata": {},
   "outputs": [],
   "source": [
    "from sklearn import metrics\n",
    "   \n",
    "# Calculate: fpr and tpr (all thresholds of the classification)\n",
    "probs = classifier.predict_proba(X_test)\n",
    "preds = probs[:,1]\n",
    "fpr, tpr, threshold = metrics.roc_curve(y_test, preds)\n",
    "roc_auc = metrics.auc(fpr, tpr)"
   ]
  },
  {
   "cell_type": "code",
   "execution_count": 65,
   "id": "8faaf1de",
   "metadata": {},
   "outputs": [
    {
     "data": {
      "image/png": "[encoded data removed]",
      "text/plain": [
       "<Figure size 432x288 with 1 Axes>"
      ]
     },
     "metadata": {
      "needs_background": "light"
     },
     "output_type": "display_data"
    }
   ],
   "source": [
    "import matplotlib.pyplot as plt\n",
    "\n",
    "plt.title('Receiver Operating Characteristic')\n",
    "plt.plot(fpr, tpr, 'b', label = 'AUC = %0.6f' % roc_auc)\n",
    "plt.legend(loc = 'lower right')\n",
    "plt.plot([0, 1], [0, 1],'r--')\n",
    "plt.xlim([0, 1])\n",
    "plt.ylim([0, 1])\n",
    "plt.ylabel('TP-True Positive')\n",
    "plt.xlabel('FP-False Positive')\n",
    "plt.show()\n"
   ]
  },
  {
   "cell_type": "code",
   "execution_count": null,
   "id": "8a147c26",
   "metadata": {},
   "outputs": [],
   "source": []
  }
 ],
 "metadata": {
  "kernelspec": {
   "display_name": "Python 3",
   "language": "python",
   "name": "python3"
  },
  "language_info": {
   "codemirror_mode": {
    "name": "ipython",
    "version": 3
   },
   "file_extension": ".py",
   "mimetype": "text/x-python",
   "name": "python",
   "nbconvert_exporter": "python",
   "pygments_lexer": "ipython3",
   "version": "3.8.8"
  }
 },
 "nbformat": 4,
 "nbformat_minor": 5
}
