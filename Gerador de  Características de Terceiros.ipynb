{
 "cells": [
  {
   "cell_type": "code",
   "execution_count": 2,
   "metadata": {},
   "outputs": [],
   "source": [
    "import pandas as pd"
   ]
  },
  {
   "cell_type": "code",
   "execution_count": 3,
   "metadata": {},
   "outputs": [],
   "source": [
    "df = pd.read_pickle('Dataset/brute_tp_characteristics.pickle')"
   ]
  },
  {
   "cell_type": "code",
   "execution_count": 4,
   "metadata": {},
   "outputs": [],
   "source": [
    "def get_connection(v):\n",
    "    if v == 0:\n",
    "        return 0\n",
    "    return 1\n",
    "\n",
    "df['connection'] = df['Third Party'].apply(get_connection)"
   ]
  },
  {
   "cell_type": "code",
   "execution_count": 5,
   "metadata": {},
   "outputs": [],
   "source": [
    "def append(lst, new):\n",
    "    if isinstance(new, list):\n",
    "        ret = lst+new\n",
    "    else:\n",
    "        ret = lst + [new]    \n",
    "    ret = filter(None.__ne__, ret)\n",
    "    ret = list(ret)\n",
    "    return ret\n",
    "\n",
    "def most_common(lst):\n",
    "    return max(set(lst), key=lst.count)"
   ]
  },
  {
   "cell_type": "code",
   "execution_count": 6,
   "metadata": {},
   "outputs": [],
   "source": [
    "def get_name(dic):\n",
    "    names = []    \n",
    "    if dic == 0:\n",
    "        return 0\n",
    "    elif 'domain_name' in dic:\n",
    "        name = dic['domain_name']\n",
    "        names = append(names, name)\n",
    "    elif 'name' in dic:\n",
    "        name = dic['name']\n",
    "        names = append(names, name)\n",
    "    elif 'nets' in dic:\n",
    "        for net in dic['nets']:\n",
    "            name = net['name']\n",
    "            names = append(names, name)   \n",
    "    \n",
    "    if len(names) == 0:\n",
    "        return 0\n",
    "    \n",
    "    return 1\n",
    "\n",
    "df['name'] = df['Third Party'].apply(get_name)"
   ]
  },
  {
   "cell_type": "code",
   "execution_count": 7,
   "metadata": {},
   "outputs": [],
   "source": [
    "def get_address(dic):\n",
    "    addresses = []    \n",
    "    if dic == 0:\n",
    "        return 0\n",
    "    elif 'address' in dic:\n",
    "        address = dic['address']\n",
    "        addresses = append(addresses, address)\n",
    "    elif 'nets' in dic:\n",
    "        for net in dic['nets']:\n",
    "            address = net['address']\n",
    "            addresses = append(addresses, address)\n",
    "            \n",
    "    if len(addresses) == 0:\n",
    "        return 0    \n",
    "\n",
    "    addresses = list(filter(('REDACTED FOR PRIVACY').__ne__, addresses))   \n",
    "    if len(addresses) == 0:\n",
    "        return -1\n",
    "    \n",
    "    return 1\n",
    "\n",
    "\n",
    "df['address'] = df['Third Party'].apply(get_address)"
   ]
  },
  {
   "cell_type": "code",
   "execution_count": 8,
   "metadata": {},
   "outputs": [],
   "source": [
    "def get_emails(dic):\n",
    "    emails = []\n",
    "    if dic == 0:\n",
    "        return 0    \n",
    "    elif 'emails' in dic:\n",
    "        email = dic['emails']\n",
    "        emails = append(emails, email)\n",
    "    elif 'nets' in dic:\n",
    "        for net in dic['nets']:\n",
    "            email = net['emails']\n",
    "            emails = append(emails, email)\n",
    "                   \n",
    "\n",
    "    if len(emails) == 0:\n",
    "        return 0\n",
    "\n",
    "    emails = list(filter(('REDACTED FOR PRIVACY').__ne__, emails))   \n",
    "    if len(emails) == 0:\n",
    "        return -1\n",
    "        \n",
    "    return len(emails)                \n",
    "                \n",
    "df['email'] = df['Third Party'].apply(get_emails)"
   ]
  },
  {
   "cell_type": "code",
   "execution_count": 9,
   "metadata": {},
   "outputs": [],
   "source": [
    "def get_country(dic):\n",
    "    countries = []\n",
    "    if dic == 0:\n",
    "        return ''    \n",
    "    elif 'country' in dic:\n",
    "        country = dic['country']\n",
    "        countries = append(countries, country)\n",
    "    elif 'nets' in dic:\n",
    "        for net in dic['nets']:\n",
    "            country = net['country']\n",
    "            countries = append(countries, country)\n",
    "                   \n",
    "\n",
    "    if len(countries) == 0:\n",
    "        return ''\n",
    "\n",
    "    countries = list(filter(('REDACTED FOR PRIVACY').__ne__, countries))   \n",
    "    if len(countries) == 0:\n",
    "        return '-1'\n",
    "        \n",
    "    return most_common(countries)\n",
    "                \n",
    "df['country'] = df['Third Party'].apply(get_country)"
   ]
  },
  {
   "cell_type": "code",
   "execution_count": 10,
   "metadata": {},
   "outputs": [],
   "source": [
    "def get_state(dic):\n",
    "    states = []\n",
    "    if dic == 0:\n",
    "        return ''    \n",
    "    elif 'state' in dic:\n",
    "        state = dic['state']\n",
    "        states = append(states, state)\n",
    "    elif 'nets' in dic:\n",
    "        for net in dic['nets']:\n",
    "            state = net['state']\n",
    "            states = append(states, state)\n",
    "                   \n",
    "\n",
    "    if len(states) == 0:\n",
    "        return ''\n",
    "\n",
    "    states = list(filter(('REDACTED FOR PRIVACY').__ne__, states))   \n",
    "    if len(states) == 0:\n",
    "        return '-1'\n",
    "        \n",
    "    return most_common(states)\n",
    "                \n",
    "df['state'] = df['Third Party'].apply(get_state)"
   ]
  },
  {
   "cell_type": "code",
   "execution_count": 63,
   "metadata": {},
   "outputs": [],
   "source": [
    "import datetime\n",
    "import re\n",
    "def extract_year(date):\n",
    "    if isinstance(date, datetime.datetime):\n",
    "        return date.year\n",
    "    \n",
    "    \n",
    "    if isinstance(date, str):\n",
    "        year = re.sub(\"[^0-9]\", \"\", date)\n",
    "        if date[0] == '0':\n",
    "            year = year[1:5]\n",
    "        else:\n",
    "            year = year[:4]\n",
    "        \n",
    "        year = int(year)\n",
    "        if year < 1900 or year > 2021:\n",
    "            return 0\n",
    "        return(year)\n",
    "    else:\n",
    "        print(date, type(date))\n",
    "        print(\"BIG ERROR\")\n",
    "\n",
    "\n",
    "def get_creation(dic):\n",
    "    creations = []\n",
    "    if dic == 0:\n",
    "        return 0\n",
    "    elif 'creation_date' in dic:\n",
    "        creation = dic['creation_date']\n",
    "        creations = append(creations, creation)\n",
    "    elif 'nets' in dic:\n",
    "        for net in dic['nets']:\n",
    "            creation = net['created']\n",
    "            creations = append(creations, creation)\n",
    "\n",
    "    if len(creations) == 0:\n",
    "        return 0\n",
    "    \n",
    "    creations = list(filter(('REDACTED FOR PRIVACY').__ne__, creations))   \n",
    "    if len(creations) == 0:\n",
    "        return -1\n",
    "    \n",
    "           \n",
    "    creations = [extract_year(creation) for creation in creations]                \n",
    "          \n",
    "    return min(creations)\n",
    "\n",
    "df['creation'] = df['Third Party'].apply(get_creation)"
   ]
  },
  {
   "cell_type": "code",
   "execution_count": 83,
   "metadata": {},
   "outputs": [],
   "source": [
    "def get_age(creation_year):\n",
    "    if creation_year <= 0:\n",
    "        return -1\n",
    "    current_year = datetime.datetime.today().year\n",
    "    age = current_year-creation_year\n",
    "    return age\n",
    "\n",
    "df['age'] = df['creation'].apply(get_age)"
   ]
  },
  {
   "cell_type": "code",
   "execution_count": 97,
   "metadata": {},
   "outputs": [],
   "source": [
    "from tld import parse_tld\n",
    "\n",
    "alexa_rank = pd.read_csv('top-1m.csv', header=None)\n",
    "alexa_rank.columns = ['rank', 'domain']\n",
    "\n",
    "def get_sld(s):\n",
    "    parse = parse_tld(s, fix_protocol=True)\n",
    "    return parse[1]\n",
    "\n",
    "alexa_rank['SLD'] = alexa_rank['domain'].apply(get_sld)\n",
    "famous_domains = list(alexa_rank['SLD'].drop_duplicates())[:1000]"
   ]
  },
  {
   "cell_type": "code",
   "execution_count": 106,
   "metadata": {},
   "outputs": [],
   "source": [
    "def get_no_slds(s):\n",
    "    count = 0\n",
    "    words = s.split('.')\n",
    "    for word in words:\n",
    "        if word in famous_domains:\n",
    "            count+=1\n",
    "    return count\n",
    "\n",
    "df['SLDs in SUB'] = df['SUB'].apply(get_no_slds)"
   ]
  },
  {
   "cell_type": "code",
   "execution_count": 122,
   "metadata": {},
   "outputs": [],
   "source": [
    "import enchant\n",
    "import numpy as np\n",
    "\n",
    "def get_sld_dst(s):\n",
    "    min_dst = np.inf\n",
    "    for famous_domain in famous_domains:\n",
    "        dst = enchant.utils.levenshtein(s, famous_domain)\n",
    "        min_dst = min(min_dst, dst)\n",
    "    return min_dst\n",
    "\n",
    "df['SLD Distance'] = df['SLD'].apply(get_sld_dst)"
   ]
  },
  {
   "cell_type": "code",
   "execution_count": 136,
   "metadata": {},
   "outputs": [],
   "source": [
    "df_subset = df.drop(columns=['Third Party'])"
   ]
  },
  {
   "cell_type": "code",
   "execution_count": 137,
   "metadata": {},
   "outputs": [],
   "source": [
    "df_subset.to_csv('Dataset/tp_characteristics.csv', index=False)"
   ]
  },
  {
   "cell_type": "code",
   "execution_count": null,
   "metadata": {},
   "outputs": [],
   "source": []
  }
 ],
 "metadata": {
  "kernelspec": {
   "display_name": "Python 3",
   "language": "python",
   "name": "python3"
  },
  "language_info": {
   "codemirror_mode": {
    "name": "ipython",
    "version": 3
   },
   "file_extension": ".py",
   "mimetype": "text/x-python",
   "name": "python",
   "nbconvert_exporter": "python",
   "pygments_lexer": "ipython3",
   "version": "3.7.6"
  }
 },
 "nbformat": 4,
 "nbformat_minor": 4
}
