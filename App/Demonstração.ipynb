{
 "cells": [
  {
   "cell_type": "markdown",
   "metadata": {},
   "source": [
    "# Carregando Bibliotecas"
   ]
  },
  {
   "cell_type": "code",
   "execution_count": 1,
   "metadata": {},
   "outputs": [],
   "source": [
    "import pandas as pd\n",
    "\n",
    "from utils_data_cleaning import data_cleaning\n",
    "from utils_attribute_gen import attribute_gen\n",
    "from utils_feature_gen import feature_gen\n",
    "from utils_encoder import norm_df\n",
    "from utils_predict import predict_df\n",
    "\n",
    "import numpy as np\n",
    "from pickle import load\n",
    "from sklearn.preprocessing import LabelEncoder"
   ]
  },
  {
   "cell_type": "markdown",
   "metadata": {},
   "source": [
    "#  Carregando os Modelos"
   ]
  },
  {
   "cell_type": "code",
   "execution_count": 2,
   "metadata": {},
   "outputs": [],
   "source": [
    "# Loading TF-IDF\n",
    "vectorizer = load(open('../Models/TF-IDF/vectorizer.pikle', 'rb'))\n",
    "\n",
    "# Loading Encoders\n",
    "enc_tld = LabelEncoder()\n",
    "enc_tld.classes_ = np.load('../Models/Encoders/enc_tld.npy', allow_pickle=True)\n",
    "\n",
    "enc_chr = LabelEncoder()\n",
    "enc_chr.classes_ = np.load('../Models/Encoders/enc_chr.npy', allow_pickle=True)\n",
    "\n",
    "# Loding Scaler\n",
    "scaler = load(open('../Models/Scalers/scaler.pikle', 'rb'))\n",
    "\n",
    "# Loading Classifiers\n",
    "clf_rf = load(open('../Models/Classifiers/rf.sav', 'rb'))\n",
    "clf_mlp = load(open('../Models/Classifiers/mlp.sav', 'rb'))\n",
    "clf_knn = load(open('../Models/Classifiers/knn.sav', 'rb'))"
   ]
  },
  {
   "cell_type": "markdown",
   "metadata": {},
   "source": [
    "# Realizando a Predição"
   ]
  },
  {
   "cell_type": "code",
   "execution_count": 3,
   "metadata": {},
   "outputs": [],
   "source": [
    "from time import time"
   ]
  },
  {
   "cell_type": "code",
   "execution_count": 13,
   "metadata": {},
   "outputs": [],
   "source": [
    "urls = [\n",
    "        'stockholm.se',\n",
    "        'arrow.com',\n",
    "        'ahackaday.io',\n",
    "        'businessbattle.tk',\n",
    "        'paypal.de.daten.sicherheit-benutzer.top',\n",
    "        'k-slee.com'\n",
    "       ]\n",
    "\n",
    "df = pd.DataFrame(urls, columns=['domain'])"
   ]
  },
  {
   "cell_type": "code",
   "execution_count": 14,
   "metadata": {},
   "outputs": [],
   "source": [
    "start = time()\n",
    "\n",
    "df = data_cleaning(df)\n",
    "df = attribute_gen(df)\n",
    "df = feature_gen(df)\n",
    "\n",
    "df = norm_df(df, vectorizer, enc_tld, enc_chr, scaler)\n",
    "results  = predict_df(df, clf_rf, clf_mlp, clf_knn)\n",
    "\n",
    "end = time()"
   ]
  },
  {
   "cell_type": "code",
   "execution_count": 15,
   "metadata": {},
   "outputs": [
    {
     "data": {
      "text/plain": [
       "[[1.0, 0.162307916946554],\n",
       " [0.0, 0.9456680610723444],\n",
       " [0.0, 0.976034350206723],\n",
       " [0.0, 0.24342070553914474],\n",
       " [1.0, 0.6797716916728621],\n",
       " [1.0, 0.999999999070428],\n",
       " [1.0, 0.225889443051576]]"
      ]
     },
     "execution_count": 15,
     "metadata": {},
     "output_type": "execute_result"
    }
   ],
   "source": [
    "results"
   ]
  },
  {
   "cell_type": "code",
   "execution_count": null,
   "metadata": {},
   "outputs": [],
   "source": []
  }
 ],
 "metadata": {
  "kernelspec": {
   "display_name": "Python 3",
   "language": "python",
   "name": "python3"
  },
  "language_info": {
   "codemirror_mode": {
    "name": "ipython",
    "version": 3
   },
   "file_extension": ".py",
   "mimetype": "text/x-python",
   "name": "python",
   "nbconvert_exporter": "python",
   "pygments_lexer": "ipython3",
   "version": "3.7.6"
  }
 },
 "nbformat": 4,
 "nbformat_minor": 4
}
